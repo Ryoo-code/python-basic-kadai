{
  "nbformat": 4,
  "nbformat_minor": 0,
  "metadata": {
    "colab": {
      "provenance": []
    },
    "kernelspec": {
      "name": "python3",
      "display_name": "Python 3"
    },
    "language_info": {
      "name": "python"
    }
  },
  "cells": [
    {
      "cell_type": "code",
      "execution_count": 35,
      "metadata": {
        "colab": {
          "base_uri": "https://localhost:8080/"
        },
        "id": "KQSEk6cUWkRg",
        "outputId": "68c42c02-cc94-424e-f4a0-6c1ed5793db9"
      },
      "outputs": [
        {
          "output_type": "stream",
          "name": "stdout",
          "text": [
            "この商品は税込み1100.0円です。\n"
          ]
        }
      ],
      "source": [
        "def add_two_arguments(price, tax):\n",
        "    # 与えられた引数priceと引数shipping_feeを加算し、変数totalに代入する\n",
        "    total = price * tax\n",
        "    return total\n",
        "\n",
        "# 関数を呼び出し、引数として購入金額と送料を渡す\n",
        "sum = add_two_arguments(1000,1.1)\n",
        "print(f\"この商品は税込み{sum}円です。\")\n",
        "\n"
      ]
    },
    {
      "cell_type": "code",
      "source": [
        "#returnがない場合\n",
        "def add_two_arguments(price, tax):\n",
        "    # 与えられた引数priceと引数shipping_feeを加算し、変数totalに代入する\n",
        "    total = price * tax\n",
        "\n",
        "# 関数を呼び出し、引数として購入金額と送料を渡す\n",
        "sum = add_two_arguments(1000,1.1)\n",
        "print(f\"この商品は税込み{sum}円です。\")\n"
      ],
      "metadata": {
        "colab": {
          "base_uri": "https://localhost:8080/"
        },
        "id": "uzJiLWuWXTv4",
        "outputId": "4cfa6f73-e20c-470c-c259-41b7a94dca88"
      },
      "execution_count": 34,
      "outputs": [
        {
          "output_type": "stream",
          "name": "stdout",
          "text": [
            "この商品は税込みNone円です。\n"
          ]
        }
      ]
    },
    {
      "cell_type": "code",
      "source": [],
      "metadata": {
        "id": "R-gxYYEfcPvN"
      },
      "execution_count": null,
      "outputs": []
    }
  ]
}