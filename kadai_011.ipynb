{
  "nbformat": 4,
  "nbformat_minor": 0,
  "metadata": {
    "colab": {
      "provenance": []
    },
    "kernelspec": {
      "name": "python3",
      "display_name": "Python 3"
    },
    "language_info": {
      "name": "python"
    }
  },
  "cells": [
    {
      "cell_type": "code",
      "execution_count": 38,
      "metadata": {
        "colab": {
          "base_uri": "https://localhost:8080/"
        },
        "id": "I92E6XNPFoIs",
        "outputId": "1275518e-8f00-402b-b296-79f680c6c15a"
      },
      "outputs": [
        {
          "output_type": "stream",
          "name": "stdout",
          "text": [
            "0 水\n",
            "1 金\n",
            "2 地\n",
            "3 火\n",
            "4 木\n",
            "5 土\n",
            "6 天\n",
            "7 海\n",
            "8 冥\n",
            "水\n",
            "金\n",
            "地\n",
            "火\n",
            "木\n",
            "土\n",
            "天\n",
            "海\n",
            "冥\n"
          ]
        }
      ],
      "source": [
        "array = [\"水\",\"金\",\"地\",\"火\",\"木\",\"土\",\"天\",\"海\",\"冥\"]\n",
        "\n",
        "for index,value in  enumerate(array) :\n",
        " print(index,value)\n",
        "\n",
        "array = [\"水\", \"金\", \"地\", \"火\", \"木\", \"土\", \"天\", \"海\", \"冥\"]\n",
        "\n",
        "count = 0\n",
        "while count < len(array): #文字列の長さ(len)よりもcount数が小さいときに繰り返す \"水\"で１個\n",
        "    print(array[count])\n",
        "    count += 1\n"
      ]
    },
    {
      "cell_type": "code",
      "source": [],
      "metadata": {
        "id": "kuoz5KBEOZmf"
      },
      "execution_count": null,
      "outputs": []
    }
  ]
}