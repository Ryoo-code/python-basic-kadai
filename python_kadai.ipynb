{
  "nbformat": 4,
  "nbformat_minor": 0,
  "metadata": {
    "colab": {
      "provenance": []
    },
    "kernelspec": {
      "name": "python3",
      "display_name": "Python 3"
    },
    "language_info": {
      "name": "python"
    }
  },
  "cells": [
    {
      "cell_type": "code",
      "execution_count": 1,
      "metadata": {
        "colab": {
          "base_uri": "https://localhost:8080/"
        },
        "id": "DRptTmRyGamS",
        "outputId": "f13b6f45-4265-4c69-a60f-5a36671a9d55"
      },
      "outputs": [
        {
          "output_type": "stream",
          "name": "stdout",
          "text": [
            "台形の面積は75.0cm²です\n"
          ]
        }
      ],
      "source": [
        "upper = 10\n",
        "under = 20\n",
        "height = 5\n",
        "#公式：台形の面積 =（上辺＋下辺）× 高さ ÷ 2\n",
        "area = (upper + under) * height / 2\n",
        "print(f\"台形の面積は{area}cm²です\")"
      ]
    },
    {
      "cell_type": "code",
      "source": [],
      "metadata": {
        "id": "UmTGeYSGG17r"
      },
      "execution_count": null,
      "outputs": []
    }
  ]
}