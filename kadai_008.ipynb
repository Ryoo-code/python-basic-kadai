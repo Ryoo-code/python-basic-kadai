{
  "nbformat": 4,
  "nbformat_minor": 0,
  "metadata": {
    "colab": {
      "provenance": []
    },
    "kernelspec": {
      "name": "python3",
      "display_name": "Python 3"
    },
    "language_info": {
      "name": "python"
    }
  },
  "cells": [
    {
      "cell_type": "code",
      "execution_count": 16,
      "metadata": {
        "colab": {
          "base_uri": "https://localhost:8080/"
        },
        "id": "Ns6LhXuPsh3i",
        "outputId": "44947538-b862-42f0-9a43-15de3d6a51ae"
      },
      "outputs": [
        {
          "output_type": "stream",
          "name": "stdout",
          "text": [
            "59\n"
          ]
        }
      ],
      "source": [
        "#ランダムな整数を利用するために、randomモジュールをインポート\n",
        "import random\n",
        "var = random.randint(0,100)\n",
        "if var % 3 == 0 and var % 5 == 0 : #余りを表す演算子は%\n",
        "  print(\"FizzBuzz\")\n",
        "elif var % 3 == 0 :\n",
        "  print(\"Fizz\")\n",
        "elif var % 5 == 0 :\n",
        "  print(\"Buzz\")\n",
        "else :\n",
        "   print(var)"
      ]
    },
    {
      "cell_type": "code",
      "source": [],
      "metadata": {
        "id": "vTCbiYSfss8q"
      },
      "execution_count": null,
      "outputs": []
    }
  ]
}