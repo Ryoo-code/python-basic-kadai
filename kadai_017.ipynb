{
  "nbformat": 4,
  "nbformat_minor": 0,
  "metadata": {
    "colab": {
      "provenance": []
    },
    "kernelspec": {
      "name": "python3",
      "display_name": "Python 3"
    },
    "language_info": {
      "name": "python"
    }
  },
  "cells": [
    {
      "cell_type": "code",
      "execution_count": 44,
      "metadata": {
        "colab": {
          "base_uri": "https://localhost:8080/",
          "height": 0
        },
        "id": "NlzvpxNGzwwZ",
        "outputId": "5e67c0dd-389e-4771-8ec2-996977466298"
      },
      "outputs": [
        {
          "output_type": "stream",
          "name": "stdout",
          "text": [
            "Aさん\n",
            "5歳\n",
            "未成年です\n",
            "Bさん\n",
            "25歳\n",
            "大人です\n",
            "Cさん\n",
            "30歳\n",
            "大人です\n"
          ]
        }
      ],
      "source": [
        "#メソッド の書き方(オブジェクトが持つ関数)\n",
        "class Human:\n",
        "  def __init__(self,name,age):\n",
        "    #属性を定義する\n",
        "    self.name = name\n",
        "    self.age = age\n",
        "\n",
        " #check_outメソッドを定義する\n",
        "  def check_adult(self):\n",
        "    #nameを出力\n",
        "    print(self.name)\n",
        "    print(f\"{self.age}歳\")\n",
        "    #ageが大人か未成年化を判断したうえで出力\n",
        "    if self.age >= 20:\n",
        "      print(\"大人です\")\n",
        "    else:\n",
        "      print(\"未成年です\")\n",
        "\n",
        "#インスタンス化する\n",
        "humans = [Human(\"Aさん\",5),Human(\"Bさん\",25),Human(\"Cさん\",30)]\n",
        "\n",
        "#インスタンス化したものを繰り返し処理\n",
        "for human in humans :\n",
        "  human.check_adult()\n"
      ]
    },
    {
      "cell_type": "code",
      "source": [
        "#メソッド の書き方(オブジェクトが持つ関数)\n",
        "class Human:\n",
        "  def __init__(self,name,age):\n",
        "    #属性を定義する\n",
        "    self.name = name\n",
        "    self.age = age\n",
        "\n",
        " #check_outメソッドを定義する\n",
        "  def print_check_adult(self):\n",
        "    #nameを出力\n",
        "    print(self.name)\n",
        "    #ageが大人か未成年化を判断したうえで出力\n",
        "    if self.age >= 20:\n",
        "      print(f\"{self.name}は{self.age}歳なので大人です\")\n",
        "    else:\n",
        "      print(f\"{self.name}は{self.age}歳なので未成年です\")\n",
        "\n",
        "#インスタンス化する\n",
        "humans = [Human(\"Aさん\",5,),Human(\"Bさん\",25),Human(\"Cさん\",30)]\n",
        "\n",
        "#インスタンス化したものを繰り返し処理\n",
        "for human in humans :\n",
        "  human.print_check_adult()"
      ],
      "metadata": {
        "colab": {
          "base_uri": "https://localhost:8080/",
          "height": 0
        },
        "id": "D-x8yyNF_uHG",
        "outputId": "16f73fde-7274-43ba-8c82-677f889a3659"
      },
      "execution_count": 39,
      "outputs": [
        {
          "output_type": "stream",
          "name": "stdout",
          "text": [
            "Aさん\n",
            "Aさんは5歳なので未成年です\n",
            "Bさん\n",
            "Bさんは25歳なので大人です\n",
            "Cさん\n",
            "Cさんは30歳なので大人です\n"
          ]
        }
      ]
    }
  ]
}