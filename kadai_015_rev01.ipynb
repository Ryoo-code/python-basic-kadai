{
  "nbformat": 4,
  "nbformat_minor": 0,
  "metadata": {
    "colab": {
      "provenance": []
    },
    "kernelspec": {
      "name": "python3",
      "display_name": "Python 3"
    },
    "language_info": {
      "name": "python"
    }
  },
  "cells": [
    {
      "cell_type": "code",
      "execution_count": null,
      "metadata": {
        "colab": {
          "base_uri": "https://localhost:8080/"
        },
        "id": "V1q91EVmBWY1",
        "outputId": "9bdaf640-a4f8-43a5-fdd7-4ed118d4f07a"
      },
      "outputs": [
        {
          "output_type": "stream",
          "name": "stdout",
          "text": [
            "名前: デーモン閣下\n",
            "年齢: 5\n"
          ]
        }
      ],
      "source": [
        "#メソッド の書き方(オブジェクトが持つ関数)\n",
        "class Human:\n",
        "  def __init__(self,name,age):\n",
        "    #属性を定義する\n",
        "    self.name = name\n",
        "    self.age = age\n",
        "\n",
        "  #メソッドを定義\n",
        "  def set_name(self,name):\n",
        "    self.name = name\n",
        "  def set_age(self,age):\n",
        "    self.age = age\n",
        " #printinfoメソッドを定義する\n",
        "  def printinfo(self):\n",
        "    print(\"名前:\", self.name)\n",
        "    print(\"年齢:\", self.age)\n",
        "\n",
        "#インスタンス化する,今回の課題では,インスタンス化時に初期値を渡す形で実装\n",
        "human = Human(\"デーモン閣下\",5)\n",
        "#メソッドにアクセスして実行する\n",
        "human.printinfo()\n"
      ]
    }
  ]
}