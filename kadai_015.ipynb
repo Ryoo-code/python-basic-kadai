{
  "nbformat": 4,
  "nbformat_minor": 0,
  "metadata": {
    "colab": {
      "provenance": []
    },
    "kernelspec": {
      "name": "python3",
      "display_name": "Python 3"
    },
    "language_info": {
      "name": "python"
    }
  },
  "cells": [
    {
      "cell_type": "code",
      "execution_count": 9,
      "metadata": {
        "colab": {
          "base_uri": "https://localhost:8080/"
        },
        "id": "V1q91EVmBWY1",
        "outputId": "e6cfbb60-3185-471e-9891-bcd4da30807f"
      },
      "outputs": [
        {
          "output_type": "stream",
          "name": "stdout",
          "text": [
            "名前: 侍\n",
            "年齢: 30\n"
          ]
        }
      ],
      "source": [
        "#メソッド の書き方(オブジェクトが持つ関数)\n",
        "class Human:\n",
        "  def __int__(self,name,age):\n",
        "    #属性を定義する\n",
        "    self.name = \"\"\n",
        "    self.age = \"\"\n",
        "\n",
        "  #メソッドを定義\n",
        "  def set_name(self,name):\n",
        "    self.name = name\n",
        "  def set_age(self,age):\n",
        "    self.age = age\n",
        " #printinfoメソッドを定義する\n",
        "  def printinfo(self):\n",
        "    print(\"名前:\", self.name)\n",
        "    print(\"年齢:\", self.age)\n",
        "\n",
        "#インスタンス化する\n",
        "human = Human()\n",
        "\n",
        "#メソッドにアクセスして実行する\n",
        "human.set_name(\"侍\")\n",
        "human.set_age(30)\n",
        "human.printinfo()"
      ]
    }
  ]
}